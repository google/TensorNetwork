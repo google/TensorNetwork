{
  "nbformat": 4,
  "nbformat_minor": 0,
  "metadata": {
    "colab": {
      "name": "MPScomponent.ipynb",
      "provenance": [],
      "collapsed_sections": [],
      "toc_visible": true,
      "machine_shape": "hm"
    },
    "kernelspec": {
      "name": "python3",
      "display_name": "Python 3"
    }
  },
  "cells": [
    {
      "cell_type": "markdown",
      "metadata": {
        "id": "C1AN1CtQUV0V",
        "colab_type": "text"
      },
      "source": [
        "# Retrieving a given component of a Matrix Product State\n",
        "\n",
        "In this tutorial we will set up a basic Matrix Product state with the use of the _TensorNetwork_ library and we will apply a very basic algorithm: retreving a selected component from the structure."
      ]
    },
    {
      "cell_type": "code",
      "metadata": {
        "id": "PTIkWyVW8JjX",
        "colab_type": "code",
        "outputId": "1fdac07a-4f82-42b5-835a-90b8a93976d7",
        "colab": {
          "base_uri": "https://localhost:8080/",
          "height": 136
        }
      },
      "source": [
        "# run with python3\n",
        "# written by Sebastian Grijalva\n",
        "# (Please send feedback!)\n",
        "# sebastian.grijalva@protonmail.com\n",
        "# thanks to Martin Ganahl: github.com/mganahl\n",
        "\n",
        "!pip install tensornetwork \n",
        "\n",
        "from sys import getsizeof\n",
        "import gc\n",
        "\n",
        "import tensornetwork as tn\n",
        "import numpy as np\n",
        "import matplotlib.pyplot as plt"
      ],
      "execution_count": 0,
      "outputs": [
        {
          "output_type": "stream",
          "text": [
            "Requirement already satisfied: tensornetwork in /usr/local/lib/python3.6/dist-packages (0.3.0)\n",
            "Requirement already satisfied: graphviz>=0.11.1 in /usr/local/lib/python3.6/dist-packages (from tensornetwork) (0.13.2)\n",
            "Requirement already satisfied: opt-einsum>=2.3.0 in /usr/local/lib/python3.6/dist-packages (from tensornetwork) (3.2.0)\n",
            "Requirement already satisfied: scipy>=1.1 in /usr/local/lib/python3.6/dist-packages (from tensornetwork) (1.4.1)\n",
            "Requirement already satisfied: h5py>=2.9.0 in /usr/local/lib/python3.6/dist-packages (from tensornetwork) (2.10.0)\n",
            "Requirement already satisfied: numpy>=1.17 in /usr/local/lib/python3.6/dist-packages (from tensornetwork) (1.18.2)\n",
            "Requirement already satisfied: six in /usr/local/lib/python3.6/dist-packages (from h5py>=2.9.0->tensornetwork) (1.12.0)\n"
          ],
          "name": "stdout"
        }
      ]
    },
    {
      "cell_type": "markdown",
      "metadata": {
        "id": "AdTY8thEV2Jj",
        "colab_type": "text"
      },
      "source": [
        "We begin by observing the scaling of the cost of storing larger and larger tensors and retrieving a component, as the dimension increases. While the computational complexity of accessing an item in a multidimensional array is $O(1)$, the main cost is the exponentially growing *memory* required to store the tensor.\n",
        "\n",
        "Let our tensor be $T^{s_1 \\cdots s_{\\textsf{Rank}}}$ (the _Rank_ for the tensor is usually thought of as the _system size_), where each $s_i \\in \\{1, \\ldots d_i\\}$ and where $d_i$ is called a _physical dimension_. For example, in physical applications, $d_i = 2 \\hspace{5pt} \\forall i$, and each $s_i$ is called a *qubit*.\n"
      ]
    },
    {
      "cell_type": "markdown",
      "metadata": {
        "id": "PmPML6mY2pKT",
        "colab_type": "text"
      },
      "source": [
        "Now let's create a tensor with random entries, with ranks and physical dimensions that run over small ranges:"
      ]
    },
    {
      "cell_type": "code",
      "metadata": {
        "id": "hkRfZZYcV7Xw",
        "colab_type": "code",
        "outputId": "07061cc3-7fdf-4cd8-d590-b03360fa083f",
        "colab": {
          "base_uri": "https://localhost:8080/",
          "height": 279
        }
      },
      "source": [
        "def create_tensor(dimension, rank):\n",
        "    '''Constructs a tensor of a given rank with random integers'''\n",
        "    dim_list = tuple([dimension for _ in range(rank)])\n",
        "    return np.random.random_sample(dim_list)\n",
        "\n",
        "ranks = range(2,12)\n",
        "dimensions = range(2,6) \n",
        "\n",
        "for dim in dimensions:\n",
        "    memory = []\n",
        "    for rank in ranks:\n",
        "        tensor = create_tensor(dim, rank)\n",
        "        component = tuple(np.random.randint(0, dim, rank))\n",
        "        memory.append(getsizeof(tensor))\n",
        "        data = tensor[component]\n",
        "    plt.semilogy(ranks, memory,'o',ls=':', label = f'd = {dim}')\n",
        "\n",
        "plt.legend()\n",
        "plt.xlabel('Tensor Rank')\n",
        "plt.ylabel('Memory cost')\n",
        "plt.show()"
      ],
      "execution_count": 0,
      "outputs": [
        {
          "output_type": "display_data",
          "data": {
            "image/png": "[encoded data removed]",
            "text/plain": [
              "<Figure size 432x288 with 1 Axes>"
            ]
          },
          "metadata": {
            "tags": [],
            "needs_background": "light"
          }
        }
      ]
    },
    {
      "cell_type": "markdown",
      "metadata": {
        "id": "num1LW2r75Dg",
        "colab_type": "text"
      },
      "source": [
        "We see that the memory required to store this array scales as $\\sim d^{\\textsf{Rank}}$. This is an exponential growth, which quickly saturates our computational resources. One way to work around this \"dimensionality catastrophe\" is to focus on a particular kind of tensors: Those that can be written as a *Matrix Product State*:\n",
        "\n",
        "$$\n",
        "T^{s_1 \\ldots s_\\textsf{Rank}} = \\sum_{\\{\\alpha\\}} A^{s_1}_{\\alpha_1}A^{s_2}_{\\alpha_1 \\alpha_2}A^{s_3}_{\\alpha_2 \\alpha_3}  \\cdots A^{s_\\textsf{Rank-1}}_{\\alpha_{\\textsf{Rank}-2}\\alpha_{\\textsf{Rank} - 1}}A^{s_\\textsf{Rank}}_{\\alpha_{\\textsf{Rank}-1}}\n",
        "$$\n",
        "\n",
        "where $\\{ \\alpha \\} = \\{ \\alpha_1, \\ldots, \\alpha_{\\textsf{Rank}-1}\\}$, and $\\alpha_i \\in \\{1 \\cdots D_i \\}$.\n",
        "\n",
        "As an important case, any quantum many-body state can be written as a MPS by using the _Schmidt Decomposition Theorem_ . In this tutorial we will take all $D_i$ (also called _bond dimension_) equal to a single $D$ ."
      ]
    },
    {
      "cell_type": "markdown",
      "metadata": {
        "id": "GZhl1OI6YPxc",
        "colab_type": "text"
      },
      "source": [
        "#Building the MPS\n",
        "\n",
        "We begin by creating directly the node structure of the MPS. First we define functions to build each block of the MPS and then the MPS itself:"
      ]
    },
    {
      "cell_type": "code",
      "metadata": {
        "id": "ogjZk_lE8NMe",
        "colab_type": "code",
        "colab": {}
      },
      "source": [
        "##Retrieving a component\n",
        "\n",
        "def block(*dimensions):\n",
        "    '''Construct a new matrix for the MPS with random numbers from 0 to 1'''\n",
        "    size = tuple([x for x in dimensions])\n",
        "    return np.random.random_sample(size)\n",
        "\n",
        "def create_MPS(rank, dimension, bond_dimension):\n",
        "    '''Build the MPS tensor'''\n",
        "    mps = [tn.Node( block(dim, bond_dim) )] + [tn.Node( block(bond_dim, dim, bond_dim)) for _ in range(rank-2)] + [tn.Node( block(bond_dim, dim) )]\n",
        "\n",
        "    #connect edges to build mps\n",
        "    connected_edges=[]\n",
        "    conn=mps[0][1]^mps[1][0]\n",
        "    for k in range(1,rank-1):\n",
        "        conn=mps[k][2]^mps[k+1][0]\n",
        "        connected_edges.append(conn)\n",
        "\n",
        "    return mps, connected_edges"
      ],
      "execution_count": 0,
      "outputs": []
    },
    {
      "cell_type": "markdown",
      "metadata": {
        "id": "jHyb8w1zN1dI",
        "colab_type": "text"
      },
      "source": [
        "We will calculate the memory size of MPS of different dimensions and ranks (notice we are able to go much farther than before)"
      ]
    },
    {
      "cell_type": "code",
      "metadata": {
        "id": "ConQNn2b6Gcp",
        "colab_type": "code",
        "outputId": "c5e00703-e228-4f4e-9426-c3cadb03019f",
        "colab": {
          "base_uri": "https://localhost:8080/",
          "height": 283
        }
      },
      "source": [
        "dimensions = range(2,11,2)\n",
        "MPS_ranks = range(2,150)\n",
        "MPS_memory = []\n",
        "\n",
        "for dim in dimensions:\n",
        "    bond_dim = 2\n",
        "    MPS_memory = []\n",
        "    for i in range(len(MPS_ranks)):\n",
        "        rank = MPS_ranks[i]\n",
        "\n",
        "        # Creating the MPS state:\n",
        "        ###############################################################################\n",
        "        mps_nodes, mps_edges = create_MPS(rank, dim, bond_dim)\n",
        "        nbytes = 0\n",
        "        for node in mps_nodes:\n",
        "            nbytes += node.tensor.nbytes #works only for numpy\n",
        "\n",
        "        MPS_memory.append(nbytes)\n",
        "\n",
        "    # Plot Results\n",
        "    plt.loglog(MPS_ranks, MPS_memory, '.', label = f'd = {dim}')\n",
        "\n",
        "plt.legend()\n",
        "plt.xlabel('Tensor Rank')\n",
        "plt.ylabel('MPS memory')\n",
        "\n",
        "plt.show()"
      ],
      "execution_count": 0,
      "outputs": [
        {
          "output_type": "display_data",
          "data": {
            "image/png": "[encoded data removed]",
            "text/plain": [
              "<Figure size 432x288 with 1 Axes>"
            ]
          },
          "metadata": {
            "tags": [],
            "needs_background": "light"
          }
        }
      ]
    },
    {
      "cell_type": "markdown",
      "metadata": {
        "id": "04EDQbZ8N4dv",
        "colab_type": "text"
      },
      "source": [
        "We see that memory requirements drop significantly: the scaling is now $~\\textsf{Rank}^{\\textsf{const.}}$(which is polynomial). We can probe higher physical dimensions with less memory. \n",
        "\n",
        "\n",
        "Now we retrieve a component of, say a 2d physical dimension system of rank 24. This is equivalent to accessing the components of some wavefunction of a 1D quantum chain of 24 qubits! The main computational cost will be the contraction of the MPS bonds. Here we use a simple algorithm to perform the calculation: contract each bond successively until the entire MPS has collapsed to the desired component of the tensor.\n",
        "\n",
        "With this scheme, the Google Colab sheet can process up to 28 qubits."
      ]
    },
    {
      "cell_type": "code",
      "metadata": {
        "colab_type": "code",
        "outputId": "2a3f0ace-d2e6-4070-e548-7abf8103b850",
        "id": "KetJ2msMXyE5",
        "colab": {
          "base_uri": "https://localhost:8080/",
          "height": 51
        }
      },
      "source": [
        "########################################################################\n",
        "#----- Retrieving a Component from an MPS by Contracting its edges-----#\n",
        "########################################################################\n",
        "dim = 2\n",
        "bond_dim = 2\n",
        "rank = 24\n",
        "components=tuple(np.random.randint(0, dim, rank)) #select randomly the components that we will retrieve\n",
        "print(f'components are: {components}')\n",
        "\n",
        "mps_nodes, mps_edges = create_MPS(rank, dim, bond_dim)\n",
        "for k in range(len(mps_edges)):\n",
        "    A = tn.contract(mps_edges[k])\n",
        "\n",
        "#the last node now has all the edges corresponding to the tensor components. \n",
        "\n",
        "A.tensor[components]"
      ],
      "execution_count": 0,
      "outputs": [
        {
          "output_type": "stream",
          "text": [
            "components are: (0, 1, 0, 1, 0, 0, 0, 0, 0, 1, 1, 0, 1, 0, 0, 0, 1, 0, 1, 0, 0, 0, 0, 0)\n"
          ],
          "name": "stdout"
        },
        {
          "output_type": "execute_result",
          "data": {
            "text/plain": [
              "0.14500532524136947"
            ]
          },
          "metadata": {
            "tags": []
          },
          "execution_count": 16
        }
      ]
    },
    {
      "cell_type": "markdown",
      "metadata": {
        "id": "rJlfpW3sm1qc",
        "colab_type": "text"
      },
      "source": [
        "#Using the TensorNetworks library\n"
      ]
    },
    {
      "cell_type": "markdown",
      "metadata": {
        "id": "Rt1p2G1MJsm1",
        "colab_type": "text"
      },
      "source": [
        "Now let's use the optimized built-in class from TensorNetworks. First we define a function that gives the byte cost of a given node in our tensor network:\n"
      ]
    },
    {
      "cell_type": "code",
      "metadata": {
        "id": "XJt51BGDUQME",
        "colab_type": "code",
        "colab": {}
      },
      "source": [
        "def get_mps_size(mps):\n",
        "    assert mps.backend.name=='numpy'\n",
        "    nbytes = 0\n",
        "    for node in mps.nodes:\n",
        "        nbytes += node.tensor.nbytes # works only for numpy\n",
        "    return nbytes"
      ],
      "execution_count": 0,
      "outputs": []
    },
    {
      "cell_type": "code",
      "metadata": {
        "id": "EdgNal1ym-yH",
        "colab_type": "code",
        "outputId": "4c5243ce-3cee-46da-9ddd-a70b173a613c",
        "colab": {
          "base_uri": "https://localhost:8080/",
          "height": 283
        }
      },
      "source": [
        "from tensornetwork import matrixproductstates as mps\n",
        "\n",
        "dimensions = range(2,11,2)\n",
        "ranks = range(2,300)\n",
        "    \n",
        "bond_dim = 2 # constant\n",
        "for phys_dim in dimensions:\n",
        "    memory = []\n",
        "    for rank in ranks:    \n",
        "        mps = tn.FiniteMPS.random(d = [phys_dim for _ in range(rank)], D = [bond_dim for _ in range(rank-1)], dtype = np.float32)\n",
        "        memory.append(get_mps_size(mps))\n",
        "    plt.loglog(ranks, memory, '.', label = f'd={phys_dim}')\n",
        "plt.legend()\n",
        "plt.xlabel('Tensor Rank')\n",
        "plt.ylabel('MPS Memory')\n",
        "\n",
        "plt.plot(MPS_ranks, MPS_memory)\n",
        "\n",
        "\n",
        "plt.show()   \n"
      ],
      "execution_count": 0,
      "outputs": [
        {
          "output_type": "display_data",
          "data": {
            "image/png": "[encoded data removed]",
            "text/plain": [
              "<Figure size 432x288 with 1 Axes>"
            ]
          },
          "metadata": {
            "tags": [],
            "needs_background": "light"
          }
        }
      ]
    },
    {
      "cell_type": "markdown",
      "metadata": {
        "id": "Zfs35oZDTJy8",
        "colab_type": "text"
      },
      "source": [
        "Here we show also the last line of the previous plot, which shows the improvements of the optimized class of the library. \n",
        "\n",
        "Retrieving a Component is now simple: Just contract over each connected edge \n",
        "and evaluate in the desired component. We'll write the entire algorithm for $\\textsf{Rank} = 24$ and $d = d_i = 2$ (again to make reference to spins): "
      ]
    },
    {
      "cell_type": "code",
      "metadata": {
        "id": "Wd2L8A2inDPh",
        "colab_type": "code",
        "outputId": "46549b49-9037-455b-9e6e-6645238f130d",
        "colab": {
          "base_uri": "https://localhost:8080/",
          "height": 51
        }
      },
      "source": [
        " #Component Retrieval Algorithm:\n",
        "\n",
        "rank = 30\n",
        "phys_dim = 2\n",
        "bond_dim = 2\n",
        "\n",
        "#build the mps:\n",
        "# tensor_list = [block(1, phys_dim, bond_dim)] + [block(bond_dim, phys_dim, bond_dim) for _ in range(rank - 2)] + [block(bond_dim, phys_dim, 1)]\n",
        "# mpstate = mps.finite_mps.FiniteMPS(tensor_list,0)\n",
        "mpstate = tn.FiniteMPS.random(d = [phys_dim for _ in range(rank)], D = [bond_dim for _ in range(rank-1)], dtype = np.float32)\n",
        "\n",
        "#connect the edges in the mps and contract over bond dimensions\n",
        "\n",
        "connected_bonds = [mpstate.nodes[k][2] ^ mpstate.nodes[k+1][0] for k in range(rank-1)]\n",
        "\n",
        "for x in connected_bonds:\n",
        "    contracted_mps = tn.contract(x)\n",
        "\n",
        "#evaluate at a desired component\n",
        "component = tuple(np.random.randint(0,phys_dim,rank))\n",
        "\n",
        "print(component)\n",
        "print(contracted_mps.tensor[0][component]) # Recall the state is automatically normalized when we define the class FiniteMPS\n"
      ],
      "execution_count": 0,
      "outputs": [
        {
          "output_type": "stream",
          "text": [
            "(0, 0, 0, 1, 1, 0, 0, 0, 1, 0, 0, 0, 1, 0, 0, 1, 0, 0, 0, 1, 1, 1, 0, 0, 0, 0, 1, 1, 1, 0)\n",
            "[-2.6412403e-10]\n"
          ],
          "name": "stdout"
        }
      ]
    },
    {
      "cell_type": "markdown",
      "metadata": {
        "id": "bIELJpcJbMvR",
        "colab_type": "text"
      },
      "source": [
        "Notice that the implementation still takes a lot of memory resources because we are beginning with a tensor of random components and then performing contraction on each of the edges. \n",
        "\n",
        "This is not what a typical ground state of a quantum many-body state would look like, specially if it has nearest-neighbor interactions or some special symmetry. In that case the matrices of the MPS will be more sparse and more clever contraction algorithms can be used, besides the fact that we are usually interested in some expectation value rather than exact coefficients."
      ]
    }
  ]
}