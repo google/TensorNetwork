{
 "cells": [
  {
   "cell_type": "code",
   "execution_count": 43,
   "metadata": {},
   "outputs": [
    {
     "name": "stdout",
     "output_type": "stream",
     "text": [
      "The autoreload extension is already loaded. To reload it, use:\n",
      "  %reload_ext autoreload\n"
     ]
    }
   ],
   "source": [
    "import numpy as np\n",
    "import tensorflow as tf\n",
    "import classifier, training\n",
    "#import experiments.MPS_classifier.MPSMNIST as mm\n",
    "%load_ext autoreload\n",
    "%autoreload 2\n",
    "tf.enable_eager_execution()"
   ]
  },
  {
   "cell_type": "markdown",
   "metadata": {},
   "source": [
    "# Data preprocessing"
   ]
  },
  {
   "cell_type": "markdown",
   "metadata": {},
   "source": [
    "First let's load the MNIST dataset of hand-written digits from `tensorflow`."
   ]
  },
  {
   "cell_type": "code",
   "execution_count": 38,
   "metadata": {},
   "outputs": [
    {
     "name": "stdout",
     "output_type": "stream",
     "text": [
      "loading MNIST data\n"
     ]
    }
   ],
   "source": [
    "train,valid,test=mm.load_MNIST('data')\n",
    "train[0],new_order = mm.shuffle(train[0])\n",
    "valid[0],_ = mm.shuffle(valid[0],new_order)\n",
    "test[0],_ = mm.shuffle(test[0],new_order)\n",
    "n_batches=50\n",
    "data, labs = mm.generate_mapped_MNIST_batches(train[0],train[1],n_batches=n_batches,which='one_hot',scaling=1.0,  \n",
    "                                              shuffle_pixels=False)\n",
    "valid_data, valid_labels = mm.generate_mapped_MNIST_batches(valid[0], valid[1],n_batches=1)\n",
    "N = data[0].shape[2]\n",
    "x_train = np.transpose(data[0],(0,2,1))\n",
    "y_train = labs[0]"
   ]
  },
  {
   "cell_type": "code",
   "execution_count": 39,
   "metadata": {},
   "outputs": [
    {
     "name": "stdout",
     "output_type": "stream",
     "text": [
      "(1000, 784, 2)\n"
     ]
    }
   ],
   "source": [
    "print(x_train.shape)"
   ]
  },
  {
   "cell_type": "code",
   "execution_count": 44,
   "metadata": {},
   "outputs": [
    {
     "name": "stdout",
     "output_type": "stream",
     "text": [
      "(60000, 28, 28) (60000,)\n",
      "(10000, 28, 28) (10000,)\n"
     ]
    }
   ],
   "source": [
    "mnist = tf.keras.datasets.mnist\n",
    "\n",
    "(x_train, y_train), (x_test, y_test) = mnist.load_data(path='mnist.npz')\n",
    "\n",
    "print(x_train.shape, y_train.shape)\n",
    "print(x_test.shape, y_test.shape)"
   ]
  },
  {
   "cell_type": "markdown",
   "metadata": {},
   "source": [
    "Next let's encode the data using the feature map $\\Phi (p) = (p, 1-p)^T$ and transform the labels to one-hot format."
   ]
  },
  {
   "cell_type": "code",
   "execution_count": 45,
   "metadata": {},
   "outputs": [
    {
     "name": "stdout",
     "output_type": "stream",
     "text": [
      "10\n",
      "(60000, 784, 2) (60000, 10)\n",
      "(10000, 784, 2) (10000, 10)\n"
     ]
    }
   ],
   "source": [
    "def data_encoder(data):\n",
    "  return np.array([1 - data, data]).transpose([1, 2, 0])\n",
    "\n",
    "def to_one_hot(labels, n_labels=10):\n",
    "  one_hot = np.zeros((len(labels), n_labels))\n",
    "  one_hot[np.arange(len(labels)), labels] = 1\n",
    "  return one_hot\n",
    "\n",
    "n_labels = len(np.unique(y_train))\n",
    "\n",
    "# Flatten and normalize\n",
    "x_train = x_train.reshape((len(x_train), np.prod(x_train.shape[1:]))) / 255.0\n",
    "x_test = x_test.reshape((len(x_test), np.prod(x_test.shape[1:]))) / 255.0\n",
    "# Encode\n",
    "x_train = data_encoder(x_train)\n",
    "x_test = data_encoder(x_test)\n",
    "y_train = to_one_hot(y_train)\n",
    "y_test = to_one_hot(y_test)\n",
    "\n",
    "print(n_labels)\n",
    "print(x_train.shape, y_train.shape)\n",
    "print(x_test.shape, y_test.shape)"
   ]
  },
  {
   "cell_type": "markdown",
   "metadata": {},
   "source": [
    "# Define MPS classifier"
   ]
  },
  {
   "cell_type": "markdown",
   "metadata": {},
   "source": [
    "Note that our MPS has one more site than the data because of the label tensor. We also have to set the bond dimension which is a hyperparameter and remains constant during training. In a more sophisticated implementation the bond dimension can be adaptively changed according to the complexity of training data by performing some SVD steps. This is currently not implemented but can be added in a future version."
   ]
  },
  {
   "cell_type": "code",
   "execution_count": 46,
   "metadata": {},
   "outputs": [],
   "source": [
    "mps = classifier.MatrixProductState(n_sites=x_train.shape[1] + 1,\n",
    "                                    n_labels=n_labels,\n",
    "                                    d_phys=x_train.shape[2],\n",
    "                                    d_bond=12)"
   ]
  },
  {
   "cell_type": "markdown",
   "metadata": {},
   "source": [
    "# Example training"
   ]
  },
  {
   "cell_type": "markdown",
   "metadata": {},
   "source": [
    "We can train the `mps` object we created using the `training.fit` data. Here we perform a quick training in a small portion of the data without validation."
   ]
  },
  {
   "cell_type": "code",
   "execution_count": 50,
   "metadata": {},
   "outputs": [
    {
     "name": "stdout",
     "output_type": "stream",
     "text": [
      "\n",
      "Epoch: 0\n",
      "Time: 4.81847882270813\n",
      "Loss: 0.007125909440219402\n",
      "Accuracy: 0.999\n",
      "\n",
      "Epoch: 1\n",
      "Time: 9.556517839431763\n",
      "Loss: 0.0010913354344666004\n",
      "Accuracy: 1.0\n",
      "\n",
      "Epoch: 2\n",
      "Time: 14.318383932113647\n",
      "Loss: 0.0003265396226197481\n",
      "Accuracy: 1.0\n",
      "\n",
      "Epoch: 3\n",
      "Time: 19.09405493736267\n",
      "Loss: 0.00016412910190410912\n",
      "Accuracy: 1.0\n",
      "\n",
      "Epoch: 4\n",
      "Time: 23.891597747802734\n",
      "Loss: 0.00010434159776195884\n",
      "Accuracy: 1.0\n"
     ]
    }
   ],
   "source": [
    "optimizer = tf.train.AdamOptimizer(learning_rate=1e-5)\n",
    "\n",
    "mps, history = training.fit(mps, optimizer, x_train[0:1000], y_train[0:1000],\n",
    "                            n_epochs=5, batch_size=50, n_message=1)"
   ]
  },
  {
   "cell_type": "code",
   "execution_count": null,
   "metadata": {},
   "outputs": [],
   "source": []
  },
  {
   "cell_type": "code",
   "execution_count": null,
   "metadata": {},
   "outputs": [],
   "source": []
  }
 ],
 "metadata": {
  "kernelspec": {
   "display_name": "Python 3",
   "language": "python",
   "name": "python3"
  },
  "language_info": {
   "codemirror_mode": {
    "name": "ipython",
    "version": 3
   },
   "file_extension": ".py",
   "mimetype": "text/x-python",
   "name": "python",
   "nbconvert_exporter": "python",
   "pygments_lexer": "ipython3",
   "version": "3.6.6"
  }
 },
 "nbformat": 4,
 "nbformat_minor": 2
}
