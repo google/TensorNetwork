{
 "cells": [
  {
   "cell_type": "code",
   "execution_count": 3,
   "metadata": {},
   "outputs": [
    {
     "name": "stdout",
     "output_type": "stream",
     "text": [
      "The autoreload extension is already loaded. To reload it, use:\n",
      "  %reload_ext autoreload\n"
     ]
    },
    {
     "data": {
      "text/plain": [
       "'1.13.1'"
      ]
     },
     "execution_count": 3,
     "metadata": {},
     "output_type": "execute_result"
    }
   ],
   "source": [
    "from __future__ import absolute_import, division, print_function\n",
    "%load_ext autoreload\n",
    "%autoreload 2\n",
    "import tensorflow as tf\n",
    "import numpy as np\n",
    "import experiments.MERA.modified_binary_mera as mod_bm\n",
    "import experiments.MERA.binary_mera as bm\n",
    "import experiments.MERA.binary_mera_lib as bml\n",
    "import tensornetwork as tn\n",
    "import matplotlib.pyplot as plt\n",
    "\n",
    "#tf.enable_eager_execution()\n",
    "tf.enable_v2_behavior()\n",
    "tf.__version__"
   ]
  },
  {
   "cell_type": "markdown",
   "metadata": {},
   "source": [
    "# binary MERA\n",
    "A scale-invariant binary MERA is a tensor network of the following form:\n",
    "![title](MERA.png)\n",
    "\n",
    "The blue triangles are called isometries, and the green squares are called disentanglers.\n",
    "The microscopic degrees of freedom $i_n$ are at the bottom of the network.\n",
    "The following cell initializes a scale invariant binary MERA. \n",
    "Below `wC` is a list of `tf.Tensor` containing isometries in layers $\\tau$, \n",
    "and `uC` is a list of `tf.Tensor` with the disentanglers\n",
    "in layer $\\tau$. "
   ]
  },
  {
   "cell_type": "markdown",
   "metadata": {},
   "source": [
    "The following cell performs a simple check: it calculates the expectatio value\n",
    "of the local Hamiltonian in each layer. The values should increase as $2^{\\tau}$.\n"
   ]
  },
  {
   "cell_type": "code",
   "execution_count": 4,
   "metadata": {},
   "outputs": [
    {
     "name": "stdout",
     "output_type": "stream",
     "text": [
      "     Iteration: 1 of 10: E = -0.85743728, err = 0.4158022653439797 at D = 4 with 8 layers\n",
      "following numbers should all be 1/2\n",
      "[0.5 0.5 0.5 0.5 0.5 0.5 0.5 0.5]\n"
     ]
    }
   ],
   "source": [
    "def test_ascending_descending(chi=4,dtype = tf.float64):\n",
    "    import copy\n",
    "    wC, uC, rho_0 = bml.initialize_binary_MERA_identities(phys_dim=2, chi=4, dtype=dtype)\n",
    "    for n in range(5):\n",
    "        wC.append(copy.copy(wC[-1]))\n",
    "        uC.append(copy.copy(uC[-1]))\n",
    "    wC, uC,_,_ = bm.run_binary_mera_optimization_TFI(chis=[chi], niters=[10],opt_u_after=0 ,\n",
    "                                                       embeddings=['a'], dtype=dtype,\n",
    "                                                       wC=wC, uC=uC)\n",
    "    ham_0 = bml.initialize_TFI_hams(dtype)\n",
    "    rho = [0 for n in range(len(wC)+1)]\n",
    "    ham = [0 for n in range(len(wC)+1)]\n",
    "    rho[-1] = bml.steady_state_density_matrix(10, rho_0, wC[-1], uC[-1])\n",
    "    ham[0]= ham_0\n",
    "    print()\n",
    "    for p in range(len(rho)-2,-1,-1):\n",
    "        rho[p] = bml.descending_super_operator(rho[p+1], wC[p], uC[p])\n",
    "    for p in range(len(wC)):\n",
    "        ham[p+1] = bml.ascending_super_operator(ham[p], wC[p], uC[p])\n",
    "    energies = [tn.ncon([rho[p],ham[p]],[[1, 2, 3, 4, 5, 6],[1, 2, 3, 4, 5, 6]]) for p in range(len(rho))]\n",
    "    print('following numbers should all be 1/2')\n",
    "    print(np.array([energies[p]/energies[p+1] for p in range(len(energies) -1 )]))\n",
    "test_ascending_descending()    "
   ]
  },
  {
   "cell_type": "markdown",
   "metadata": {},
   "source": [
    "## optimize \n",
    "The following cell runs an optimization to approximate the \n",
    "ground state of the transverse field Ising model with a MERA. \n",
    "The method returns list `uC` and `wC` of `tf.Tensor` objects, \n",
    "the disentanglers and the isometries, respectively."
   ]
  },
  {
   "cell_type": "code",
   "execution_count": 6,
   "metadata": {},
   "outputs": [
    {
     "name": "stdout",
     "output_type": "stream",
     "text": [
      "     Iteration: 391 of 400: E = -1.27323714, err = 0.0000024014674909 at D = 4 with 3 layerss"
     ]
    }
   ],
   "source": [
    "wC, uC,_,_ = bm.run_binary_mera_optimization_TFI(chis=[4,4], niters=[1000,400], \n",
    "                                                 embeddings=['a','a'], dtype=tf.float64, opt_u_after=40,\n",
    "                                                 opt_all_layers=[True, True], nsteps_steady_state=12)\n"
   ]
  },
  {
   "cell_type": "markdown",
   "metadata": {},
   "source": [
    "we can pass the tensors in `wC` and `uC` again to the routine to resume optimization"
   ]
  },
  {
   "cell_type": "code",
   "execution_count": 13,
   "metadata": {},
   "outputs": [
    {
     "name": "stdout",
     "output_type": "stream",
     "text": [
      "     Iteration: 291 of 300: E = -1.27323910, err = 0.0000004449449160 at D = 6 with 3 layers"
     ]
    }
   ],
   "source": [
    "wC, uC,_,_ = bm.run_binary_mera_optimization_TFI(chis=[6], niters=[300], \n",
    "                                                 embeddings=['p'], dtype=tf.float64,opt_u_after=0,\n",
    "                                                 opt_all_layers=[True], nsteps_steady_state=12,\n",
    "                                                 wC=wC, uC=uC)"
   ]
  },
  {
   "cell_type": "markdown",
   "metadata": {},
   "source": [
    "## Scaling dimensions\n",
    "From the optimized MERA, we can calculate scaling dimensions of the Ising CFT by diagonalizing\n",
    "the scale-invariant ascending super-operator:"
   ]
  },
  {
   "cell_type": "code",
   "execution_count": 14,
   "metadata": {},
   "outputs": [
    {
     "data": {
      "image/png": "[encoded data removed]",
      "text/plain": [
       "<Figure size 432x288 with 1 Axes>"
      ]
     },
     "metadata": {
      "needs_background": "light"
     },
     "output_type": "display_data"
    },
    {
     "name": "stdout",
     "output_type": "stream",
     "text": [
      "[-3.844111804577896e-15, 0.12507386444017216, 1.0002481919901671, 1.1242691320452483, 1.1249211992654748, 1.9863762926504265, 1.9975705618126158, 1.9991431763784262, 1.9994197140312209, 2.022228782482589, 2.0694707985718535]\n"
     ]
    }
   ],
   "source": [
    "k=11\n",
    "scdims = sorted(bml.get_scaling_dimensions(wC[-1], uC[-1], k=k))\n",
    "\n",
    "    \n",
    "\n",
    "%matplotlib inline\n",
    "plt.plot(range(len(scdims)),scdims,'o')\n",
    "plt.grid()\n",
    "plt.hlines(0.0,-2,12,linewidth=0.5)\n",
    "plt.hlines(0.125,-2,12,linewidth=0.5)\n",
    "plt.hlines(1.0,-2,12,linewidth=0.5)\n",
    "plt.hlines(1.125,-2,12,linewidth=0.5)\n",
    "plt.hlines(2,-2,12,linewidth=0.5)\n",
    "plt.hlines(2.125,-2,12,linewidth=0.5)\n",
    "plt.xlim([0,k])\n",
    "plt.xlabel('n')\n",
    "plt.ylabel('scaling dimension')\n",
    "plt.draw()\n",
    "plt.show()\n",
    "print(scdims)"
   ]
  },
  {
   "cell_type": "markdown",
   "metadata": {},
   "source": [
    "# modified binary MERA\n",
    "the modified binary MERA is a simplified version of the binary MERA.  See webpage below:"
   ]
  },
  {
   "cell_type": "code",
   "execution_count": 60,
   "metadata": {},
   "outputs": [
    {
     "data": {
      "text/html": [
       "<iframe src=https://www.tensors.net/p-mera width=950 height=1000></iframe>"
      ],
      "text/plain": [
       "<IPython.core.display.HTML object>"
      ]
     },
     "execution_count": 60,
     "metadata": {},
     "output_type": "execute_result"
    }
   ],
   "source": [
    "import IPython\n",
    "url = 'https://www.tensors.net/p-mera'\n",
    "iframe = '<iframe src=' + url + ' width=950 height=1000></iframe>'\n",
    "IPython.display.HTML(iframe)"
   ]
  },
  {
   "cell_type": "markdown",
   "metadata": {},
   "source": [
    "## optimize modified binary MERA"
   ]
  },
  {
   "cell_type": "code",
   "execution_count": 15,
   "metadata": {},
   "outputs": [
    {
     "name": "stdout",
     "output_type": "stream",
     "text": [
      "WARNING:tensorflow:From /Users/martin/PY3_TF_1.13/lib/python3.6/site-packages/tensorflow/python/ops/resource_variable_ops.py:642: colocate_with (from tensorflow.python.framework.ops) is deprecated and will be removed in a future version.\n",
      "Instructions for updating:\n",
      "Colocations handled automatically by placer.\n",
      "Iteration: 991 of 1000: E = -1.27322090, err = 0.0000186485689615 at D = 6 with 2 layers"
     ]
    }
   ],
   "source": [
    "#run a modified binary mera optimization for the TFI model\n",
    "energies, walltimes, wC, vV, uC = mod_bm.run_mod_binary_mera_optimization_TFI(chis=[4,6], niters=[1000, 1000], \n",
    "                                                                              embeddings=['p','a'],\n",
    "                                                                              dtype=tf.float64, verbose=1, \n",
    "                                                                              nsteps_steady_state=8,refsym=True)\n"
   ]
  },
  {
   "cell_type": "code",
   "execution_count": 16,
   "metadata": {},
   "outputs": [
    {
     "data": {
      "image/png": "[encoded data removed]",
      "text/plain": [
       "<Figure size 432x288 with 1 Axes>"
      ]
     },
     "metadata": {
      "needs_background": "light"
     },
     "output_type": "display_data"
    }
   ],
   "source": [
    "plt.loglog(np.array(energies)+4/np.pi)\n",
    "plt.xlabel('iteration')\n",
    "plt.ylabel('error in energy')\n",
    "plt.draw()\n",
    "plt.show()"
   ]
  },
  {
   "cell_type": "code",
   "execution_count": null,
   "metadata": {},
   "outputs": [],
   "source": []
  }
 ],
 "metadata": {
  "kernelspec": {
   "display_name": "Python 3",
   "language": "python",
   "name": "python3"
  },
  "language_info": {
   "codemirror_mode": {
    "name": "ipython",
    "version": 3
   },
   "file_extension": ".py",
   "mimetype": "text/x-python",
   "name": "python",
   "nbconvert_exporter": "python",
   "pygments_lexer": "ipython3",
   "version": "3.6.6"
  }
 },
 "nbformat": 4,
 "nbformat_minor": 2
}
